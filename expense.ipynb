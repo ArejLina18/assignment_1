{
 "cells": [
  {
   "cell_type": "code",
   "execution_count": 1,
   "id": "99565ec7-812e-4ce1-9efb-198381c133f3",
   "metadata": {},
   "outputs": [
    {
     "name": "stdout",
     "output_type": "stream",
     "text": [
      "Requirement already satisfied: faker in c:\\users\\hp\\anaconda3\\lib\\site-packages (33.3.1)\n",
      "Requirement already satisfied: python-dateutil>=2.4 in c:\\users\\hp\\anaconda3\\lib\\site-packages (from faker) (2.8.2)\n",
      "Requirement already satisfied: typing-extensions in c:\\users\\hp\\anaconda3\\lib\\site-packages (from faker) (4.9.0)\n",
      "Requirement already satisfied: six>=1.5 in c:\\users\\hp\\anaconda3\\lib\\site-packages (from python-dateutil>=2.4->faker) (1.16.0)\n",
      "Note: you may need to restart the kernel to use updated packages.\n"
     ]
    }
   ],
   "source": [
    "pip install faker"
   ]
  },
  {
   "cell_type": "code",
   "execution_count": 2,
   "id": "6849a07d-5a17-4c1f-8938-863d218ad44b",
   "metadata": {},
   "outputs": [
    {
     "name": "stdin",
     "output_type": "stream",
     "text": [
      "Enter the target month (1-12):  1\n",
      "Enter the target year (e.g., 2024):  2025\n"
     ]
    },
    {
     "name": "stdout",
     "output_type": "stream",
     "text": [
      "Sample data for the specified month generated!\n"
     ]
    }
   ],
   "source": [
    "from faker import Faker\n",
    "import random\n",
    "import pandas as pd\n",
    "\n",
    "fake = Faker()\n",
    "\n",
    "def generate_expenses(num_entries, month, year):\n",
    "    categories = ['Food', 'Transportation', 'Bills', 'Groceries', 'Subscriptions', 'Entertainment', 'Miscellaneous']\n",
    "    payment_modes = ['Cash', 'UPI', 'Credit Card', 'Debit Card', 'NetBanking']\n",
    "    bills = ['electricity', 'gas', 'water', 'wifi', 'phone']\n",
    "    subscription = ['spotify', 'wynk', 'prime', 'netflix', 'youtube']\n",
    "    \n",
    "    data = []\n",
    "    for _ in range(num_entries):\n",
    "        # Generate a random date within the specified month and year\n",
    "        date = fake.date_between_dates(\n",
    "            date_start=pd.Timestamp(year, month, 1),\n",
    "            date_end=pd.Timestamp(year, month, 28)  # Assume 28 days for simplicity\n",
    "        )\n",
    "        data.append({\n",
    "            'Date': date,\n",
    "            'Category': random.choice(categories),\n",
    "            'Payment_Mode': random.choice(payment_modes),\n",
    "            'Description': fake.sentence(nb_words=5),\n",
    "            'Amount_Paid': round(random.uniform(10, 500), 2),\n",
    "            'Cashback': round(random.uniform(0, 20), 2) if random.random() > 0.5 else 0.0\n",
    "        })\n",
    "    return pd.DataFrame(data)\n",
    "\n",
    "# User input for month and year\n",
    "target_month = int(input(\"Enter the target month (1-12): \"))\n",
    "target_year = int(input(\"Enter the target year (e.g., 2024): \"))\n",
    "\n",
    "# Generate data\n",
    "df = generate_expenses(100, target_month, target_year)\n",
    "\n",
    "# Save to CSV\n",
    "df.to_csv('expenses_specific_month.csv', index=False)\n",
    "print(\"Sample data for the specified month generated!\")"
   ]
  },
  {
   "cell_type": "code",
   "execution_count": 3,
   "id": "d2a961c8-e4b4-4c0b-80fc-0319af9f6f66",
   "metadata": {},
   "outputs": [
    {
     "data": {
      "text/plain": [
       "100"
      ]
     },
     "execution_count": 3,
     "metadata": {},
     "output_type": "execute_result"
    }
   ],
   "source": [
    "import sqlite3\n",
    "conn = sqlite3.connect('expenses.db')\n",
    "df.to_sql('January', conn, if_exists='replace', index=False)"
   ]
  },
  {
   "cell_type": "code",
   "execution_count": 4,
   "id": "0ede6119-4091-44fb-80df-d8175e5cddad",
   "metadata": {},
   "outputs": [
    {
     "name": "stdin",
     "output_type": "stream",
     "text": [
      "Enter the target month (1-12):  2\n",
      "Enter the target year (e.g., 2024):  2025\n"
     ]
    },
    {
     "name": "stdout",
     "output_type": "stream",
     "text": [
      "Sample data for the specified month generated!\n"
     ]
    }
   ],
   "source": [
    "from faker import Faker\n",
    "import random\n",
    "import pandas as pd\n",
    "fake = Faker()\n",
    "\n",
    "def generate_expenses(num_entries, month, year):\n",
    "    categories = ['Food', 'Transportation', 'Bills', 'Groceries', 'Subscriptions', 'Entertainment', 'Miscellaneous']\n",
    "    payment_modes = ['Cash', 'UPI', 'Credit Card', 'Debit Card', 'NetBanking']\n",
    "    bills = ['electricity', 'gas', 'water', 'wifi', 'phone']\n",
    "    subscription = ['spotify', 'wynk', 'prime', 'netflix', 'youtube']\n",
    "    \n",
    "    data = []\n",
    "    for _ in range(num_entries):\n",
    "        # Generate a random date within the specified month and year\n",
    "        date = fake.date_between_dates(\n",
    "            date_start=pd.Timestamp(year, month, 1),\n",
    "            date_end=pd.Timestamp(year, month, 28)  # Assume 28 days for simplicity\n",
    "        )\n",
    "        data.append({\n",
    "            'Date': date,\n",
    "            'Category': random.choice(categories),\n",
    "            'Payment_Mode': random.choice(payment_modes),\n",
    "            'Description': fake.sentence(nb_words=5),\n",
    "            'Amount_Paid': round(random.uniform(10, 500), 2),\n",
    "            'Cashback': round(random.uniform(0, 20), 2) if random.random() > 0.5 else 0.0\n",
    "        })\n",
    "    return pd.DataFrame(data)\n",
    "\n",
    "# User input for month and year\n",
    "target_month = int(input(\"Enter the target month (1-12): \"))\n",
    "target_year = int(input(\"Enter the target year (e.g., 2024): \"))\n",
    "\n",
    "# Generate data\n",
    "df = generate_expenses(100, target_month, target_year)\n",
    "\n",
    "# Save to CSV\n",
    "df.to_csv('expenses_specific_month.csv', index=False)\n",
    "print(\"Sample data for the specified month generated!\")"
   ]
  },
  {
   "cell_type": "code",
   "execution_count": 5,
   "id": "2ac8d8b7-59e7-4df5-8f2d-eb5a954725b6",
   "metadata": {},
   "outputs": [
    {
     "data": {
      "text/plain": [
       "100"
      ]
     },
     "execution_count": 5,
     "metadata": {},
     "output_type": "execute_result"
    }
   ],
   "source": [
    "import sqlite3\n",
    "conn = sqlite3.connect('expenses.db')\n",
    "df.to_sql('February', conn, if_exists='replace', index=False)"
   ]
  },
  {
   "cell_type": "code",
   "execution_count": 6,
   "id": "5230ce71-dbe8-4d5d-8dbc-05c3a81ec0b7",
   "metadata": {},
   "outputs": [
    {
     "name": "stdin",
     "output_type": "stream",
     "text": [
      "Enter the target month (1-12):  3\n",
      "Enter the target year (e.g., 2024):  2025\n"
     ]
    },
    {
     "name": "stdout",
     "output_type": "stream",
     "text": [
      "Sample data for the specified month generated!\n"
     ]
    }
   ],
   "source": [
    "from faker import Faker\n",
    "import random\n",
    "import pandas as pd\n",
    "fake = Faker()\n",
    "\n",
    "def generate_expenses(num_entries, month, year):\n",
    "    categories = ['Food', 'Transportation', 'Bills', 'Groceries', 'Subscriptions', 'Entertainment', 'Miscellaneous']\n",
    "    payment_modes = ['Cash', 'UPI', 'Credit Card', 'Debit Card', 'NetBanking']\n",
    "    bills = ['electricity', 'gas', 'water', 'wifi', 'phone']\n",
    "    subscription = ['spotify', 'wynk', 'prime', 'netflix', 'youtube']\n",
    "    \n",
    "    data = []\n",
    "    for _ in range(num_entries):\n",
    "        # Generate a random date within the specified month and year\n",
    "        date = fake.date_between_dates(\n",
    "            date_start=pd.Timestamp(year, month, 1),\n",
    "            date_end=pd.Timestamp(year, month, 28)  # Assume 28 days for simplicity\n",
    "        )\n",
    "        data.append({\n",
    "            'Date': date,\n",
    "            'Category': random.choice(categories),\n",
    "            'Payment_Mode': random.choice(payment_modes),\n",
    "            'Description': fake.sentence(nb_words=5),\n",
    "            'Amount_Paid': round(random.uniform(10, 500), 2),\n",
    "            'Cashback': round(random.uniform(0, 20), 2) if random.random() > 0.5 else 0.0\n",
    "        })\n",
    "    return pd.DataFrame(data)\n",
    "\n",
    "# User input for month and year\n",
    "target_month = int(input(\"Enter the target month (1-12): \"))\n",
    "target_year = int(input(\"Enter the target year (e.g., 2024): \"))\n",
    "\n",
    "# Generate data\n",
    "df = generate_expenses(100, target_month, target_year)\n",
    "\n",
    "# Save to CSV\n",
    "df.to_csv('expenses_specific_month.csv', index=False)\n",
    "print(\"Sample data for the specified month generated!\")"
   ]
  },
  {
   "cell_type": "code",
   "execution_count": 7,
   "id": "825eec3d-6607-4f58-bd1b-488448905f45",
   "metadata": {},
   "outputs": [
    {
     "data": {
      "text/plain": [
       "100"
      ]
     },
     "execution_count": 7,
     "metadata": {},
     "output_type": "execute_result"
    }
   ],
   "source": [
    "import sqlite3\n",
    "conn = sqlite3.connect('expenses.db')\n",
    "df.to_sql('March', conn, if_exists='replace', index=False)"
   ]
  },
  {
   "cell_type": "code",
   "execution_count": 8,
   "id": "d11697a4-8e3a-460e-893a-ea11c025e5f3",
   "metadata": {},
   "outputs": [
    {
     "name": "stdin",
     "output_type": "stream",
     "text": [
      "Enter the target month (1-12):  4\n",
      "Enter the target year (e.g., 2024):  2025\n"
     ]
    },
    {
     "name": "stdout",
     "output_type": "stream",
     "text": [
      "Sample data for the specified month generated!\n"
     ]
    }
   ],
   "source": [
    "from faker import Faker\n",
    "import random\n",
    "import pandas as pd\n",
    "fake = Faker()\n",
    "\n",
    "def generate_expenses(num_entries, month, year):\n",
    "    categories = ['Food', 'Transportation', 'Bills', 'Groceries', 'Subscriptions', 'Entertainment', 'Miscellaneous']\n",
    "    payment_modes = ['Cash', 'UPI', 'Credit Card', 'Debit Card', 'NetBanking']\n",
    "    bills = ['electricity', 'gas', 'water', 'wifi', 'phone']\n",
    "    subscription = ['spotify', 'wynk', 'prime', 'netflix', 'youtube']\n",
    "    \n",
    "    data = []\n",
    "    for _ in range(num_entries):\n",
    "        # Generate a random date within the specified month and year\n",
    "        date = fake.date_between_dates(\n",
    "            date_start=pd.Timestamp(year, month, 1),\n",
    "            date_end=pd.Timestamp(year, month, 28)  # Assume 28 days for simplicity\n",
    "        )\n",
    "        data.append({\n",
    "            'Date': date,\n",
    "            'Category': random.choice(categories),\n",
    "            'Payment_Mode': random.choice(payment_modes),\n",
    "            'Description': fake.sentence(nb_words=5),\n",
    "            'Amount_Paid': round(random.uniform(10, 500), 2),\n",
    "            'Cashback': round(random.uniform(0, 20), 2) if random.random() > 0.5 else 0.0\n",
    "        })\n",
    "    return pd.DataFrame(data)\n",
    "\n",
    "# User input for month and year\n",
    "target_month = int(input(\"Enter the target month (1-12): \"))\n",
    "target_year = int(input(\"Enter the target year (e.g., 2024): \"))\n",
    "\n",
    "# Generate data\n",
    "df = generate_expenses(100, target_month, target_year)\n",
    "\n",
    "# Save to CSV\n",
    "df.to_csv('expenses_specific_month.csv', index=False)\n",
    "print(\"Sample data for the specified month generated!\")"
   ]
  },
  {
   "cell_type": "code",
   "execution_count": 9,
   "id": "0a67fe0a-df6d-4058-a035-07ef006cca51",
   "metadata": {},
   "outputs": [
    {
     "data": {
      "text/plain": [
       "100"
      ]
     },
     "execution_count": 9,
     "metadata": {},
     "output_type": "execute_result"
    }
   ],
   "source": [
    "import sqlite3\n",
    "conn = sqlite3.connect('expenses.db')\n",
    "df.to_sql('April', conn, if_exists='replace', index=False)"
   ]
  },
  {
   "cell_type": "code",
   "execution_count": 10,
   "id": "09f02836-38d9-4f78-918b-06466cfb621b",
   "metadata": {},
   "outputs": [
    {
     "name": "stdin",
     "output_type": "stream",
     "text": [
      "Enter the target month (1-12):  5\n",
      "Enter the target year (e.g., 2024):  2025\n"
     ]
    },
    {
     "name": "stdout",
     "output_type": "stream",
     "text": [
      "Sample data for the specified month generated!\n"
     ]
    }
   ],
   "source": [
    "from faker import Faker\n",
    "import random\n",
    "import pandas as pd\n",
    "fake = Faker()\n",
    "\n",
    "def generate_expenses(num_entries, month, year):\n",
    "    categories = ['Food', 'Transportation', 'Bills', 'Groceries', 'Subscriptions', 'Entertainment', 'Miscellaneous']\n",
    "    payment_modes = ['Cash', 'UPI', 'Credit Card', 'Debit Card', 'NetBanking']\n",
    "    bills = ['electricity', 'gas', 'water', 'wifi', 'phone']\n",
    "    subscription = ['spotify', 'wynk', 'prime', 'netflix', 'youtube']\n",
    "    \n",
    "    data = []\n",
    "    for _ in range(num_entries):\n",
    "        # Generate a random date within the specified month and year\n",
    "        date = fake.date_between_dates(\n",
    "            date_start=pd.Timestamp(year, month, 1),\n",
    "            date_end=pd.Timestamp(year, month, 28)  # Assume 28 days for simplicity\n",
    "        )\n",
    "        data.append({\n",
    "            'Date': date,\n",
    "            'Category': random.choice(categories),\n",
    "            'Payment_Mode': random.choice(payment_modes),\n",
    "            'Description': fake.sentence(nb_words=5),\n",
    "            'Amount_Paid': round(random.uniform(10, 500), 2),\n",
    "            'Cashback': round(random.uniform(0, 20), 2) if random.random() > 0.5 else 0.0\n",
    "        })\n",
    "    return pd.DataFrame(data)\n",
    "\n",
    "# User input for month and year\n",
    "target_month = int(input(\"Enter the target month (1-12): \"))\n",
    "target_year = int(input(\"Enter the target year (e.g., 2024): \"))\n",
    "\n",
    "# Generate data\n",
    "df = generate_expenses(100, target_month, target_year)\n",
    "\n",
    "# Save to CSV\n",
    "df.to_csv('expenses_specific_month.csv', index=False)\n",
    "print(\"Sample data for the specified month generated!\")"
   ]
  },
  {
   "cell_type": "code",
   "execution_count": 11,
   "id": "df5bc40e-d2c9-4f9e-bd49-85fbd7e834cf",
   "metadata": {},
   "outputs": [
    {
     "data": {
      "text/plain": [
       "100"
      ]
     },
     "execution_count": 11,
     "metadata": {},
     "output_type": "execute_result"
    }
   ],
   "source": [
    "import sqlite3\n",
    "conn = sqlite3.connect('expenses.db')\n",
    "df.to_sql('May', conn, if_exists='replace', index=False)\n"
   ]
  },
  {
   "cell_type": "code",
   "execution_count": 12,
   "id": "647698fa-87ce-4685-9eff-5baed5843191",
   "metadata": {},
   "outputs": [
    {
     "name": "stdin",
     "output_type": "stream",
     "text": [
      "Enter the target month (1-12):  6\n",
      "Enter the target year (e.g., 2024):  2025\n"
     ]
    },
    {
     "name": "stdout",
     "output_type": "stream",
     "text": [
      "Sample data for the specified month generated!\n"
     ]
    }
   ],
   "source": [
    "from faker import Faker\n",
    "import random\n",
    "import pandas as pd\n",
    "fake = Faker()\n",
    "\n",
    "def generate_expenses(num_entries, month, year):\n",
    "    categories = ['Food', 'Transportation', 'Bills', 'Groceries', 'Subscriptions', 'Entertainment', 'Miscellaneous']\n",
    "    payment_modes = ['Cash', 'UPI', 'Credit Card', 'Debit Card', 'NetBanking']\n",
    "    bills = ['electricity', 'gas', 'water', 'wifi', 'phone']\n",
    "    subscription = ['spotify', 'wynk', 'prime', 'netflix', 'youtube']\n",
    "    \n",
    "    data = []\n",
    "    for _ in range(num_entries):\n",
    "        # Generate a random date within the specified month and year\n",
    "        date = fake.date_between_dates(\n",
    "            date_start=pd.Timestamp(year, month, 1),\n",
    "            date_end=pd.Timestamp(year, month, 28)  # Assume 28 days for simplicity\n",
    "        )\n",
    "        data.append({\n",
    "            'Date': date,\n",
    "            'Category': random.choice(categories),\n",
    "            'Payment_Mode': random.choice(payment_modes),\n",
    "            'Description': fake.sentence(nb_words=5),\n",
    "            'Amount_Paid': round(random.uniform(10, 500), 2),\n",
    "            'Cashback': round(random.uniform(0, 20), 2) if random.random() > 0.5 else 0.0\n",
    "        })\n",
    "    return pd.DataFrame(data)\n",
    "\n",
    "# User input for month and year\n",
    "target_month = int(input(\"Enter the target month (1-12): \"))\n",
    "target_year = int(input(\"Enter the target year (e.g., 2024): \"))\n",
    "\n",
    "# Generate data\n",
    "df = generate_expenses(100, target_month, target_year)\n",
    "\n",
    "# Save to CSV\n",
    "df.to_csv('expenses_specific_month.csv', index=False)\n",
    "print(\"Sample data for the specified month generated!\")"
   ]
  },
  {
   "cell_type": "code",
   "execution_count": 13,
   "id": "486d63ec-4806-46b7-97d0-95f8bd9375be",
   "metadata": {},
   "outputs": [
    {
     "data": {
      "text/plain": [
       "100"
      ]
     },
     "execution_count": 13,
     "metadata": {},
     "output_type": "execute_result"
    }
   ],
   "source": [
    "import sqlite3\n",
    "conn = sqlite3.connect('expenses.db')\n",
    "df.to_sql('June', conn, if_exists='replace', index=False)"
   ]
  },
  {
   "cell_type": "code",
   "execution_count": 14,
   "id": "623ac25a-56a3-43cf-afd3-cf833be67654",
   "metadata": {},
   "outputs": [
    {
     "name": "stdin",
     "output_type": "stream",
     "text": [
      "Enter the target month (1-12):  7\n",
      "Enter the target year (e.g., 2024):  2025\n"
     ]
    },
    {
     "name": "stdout",
     "output_type": "stream",
     "text": [
      "Sample data for the specified month generated!\n"
     ]
    }
   ],
   "source": [
    "from faker import Faker\n",
    "import random\n",
    "import pandas as pd\n",
    "fake = Faker()\n",
    "\n",
    "def generate_expenses(num_entries, month, year):\n",
    "    categories = ['Food', 'Transportation', 'Bills', 'Groceries', 'Subscriptions', 'Entertainment', 'Miscellaneous']\n",
    "    payment_modes = ['Cash', 'UPI', 'Credit Card', 'Debit Card', 'NetBanking']\n",
    "    bills = ['electricity', 'gas', 'water', 'wifi', 'phone']\n",
    "    subscription = ['spotify', 'wynk', 'prime', 'netflix', 'youtube']\n",
    "    \n",
    "    data = []\n",
    "    for _ in range(num_entries):\n",
    "        # Generate a random date within the specified month and year\n",
    "        date = fake.date_between_dates(\n",
    "            date_start=pd.Timestamp(year, month, 1),\n",
    "            date_end=pd.Timestamp(year, month, 28)  # Assume 28 days for simplicity\n",
    "        )\n",
    "        data.append({\n",
    "            'Date': date,\n",
    "            'Category': random.choice(categories),\n",
    "            'Payment_Mode': random.choice(payment_modes),\n",
    "            'Description': fake.sentence(nb_words=5),\n",
    "            'Amount_Paid': round(random.uniform(10, 500), 2),\n",
    "            'Cashback': round(random.uniform(0, 20), 2) if random.random() > 0.5 else 0.0\n",
    "        })\n",
    "    return pd.DataFrame(data)\n",
    "\n",
    "# User input for month and year\n",
    "target_month = int(input(\"Enter the target month (1-12): \"))\n",
    "target_year = int(input(\"Enter the target year (e.g., 2024): \"))\n",
    "\n",
    "# Generate data\n",
    "df = generate_expenses(100, target_month, target_year)\n",
    "\n",
    "# Save to CSV\n",
    "df.to_csv('expenses_specific_month.csv', index=False)\n",
    "print(\"Sample data for the specified month generated!\")"
   ]
  },
  {
   "cell_type": "code",
   "execution_count": 15,
   "id": "ea5e57b9-a4ed-4a78-840d-2db4270d8719",
   "metadata": {},
   "outputs": [
    {
     "data": {
      "text/plain": [
       "100"
      ]
     },
     "execution_count": 15,
     "metadata": {},
     "output_type": "execute_result"
    }
   ],
   "source": [
    "import sqlite3\n",
    "conn = sqlite3.connect('expenses.db')\n",
    "df.to_sql('July', conn, if_exists='replace', index=False)\n"
   ]
  },
  {
   "cell_type": "code",
   "execution_count": 16,
   "id": "db9f007c-e1f6-4775-9556-e6ca301f85b1",
   "metadata": {},
   "outputs": [
    {
     "name": "stdin",
     "output_type": "stream",
     "text": [
      "Enter the target month (1-12):  8\n",
      "Enter the target year (e.g., 2024):  2025\n"
     ]
    },
    {
     "name": "stdout",
     "output_type": "stream",
     "text": [
      "Sample data for the specified month generated!\n"
     ]
    }
   ],
   "source": [
    "from faker import Faker\n",
    "import random\n",
    "import pandas as pd\n",
    "fake = Faker()\n",
    "\n",
    "def generate_expenses(num_entries, month, year):\n",
    "    categories = ['Food', 'Transportation', 'Bills', 'Groceries', 'Subscriptions', 'Entertainment', 'Miscellaneous']\n",
    "    payment_modes = ['Cash', 'UPI', 'Credit Card', 'Debit Card', 'NetBanking']\n",
    "    bills = ['electricity', 'gas', 'water', 'wifi', 'phone']\n",
    "    subscription = ['spotify', 'wynk', 'prime', 'netflix', 'youtube']\n",
    "    \n",
    "    data = []\n",
    "    for _ in range(num_entries):\n",
    "        # Generate a random date within the specified month and year\n",
    "        date = fake.date_between_dates(\n",
    "            date_start=pd.Timestamp(year, month, 1),\n",
    "            date_end=pd.Timestamp(year, month, 28)  # Assume 28 days for simplicity\n",
    "        )\n",
    "        data.append({\n",
    "            'Date': date,\n",
    "            'Category': random.choice(categories),\n",
    "            'Payment_Mode': random.choice(payment_modes),\n",
    "            'Description': fake.sentence(nb_words=5),\n",
    "            'Amount_Paid': round(random.uniform(10, 500), 2),\n",
    "            'Cashback': round(random.uniform(0, 20), 2) if random.random() > 0.5 else 0.0\n",
    "        })\n",
    "    return pd.DataFrame(data)\n",
    "\n",
    "# User input for month and year\n",
    "target_month = int(input(\"Enter the target month (1-12): \"))\n",
    "target_year = int(input(\"Enter the target year (e.g., 2024): \"))\n",
    "\n",
    "# Generate data\n",
    "df = generate_expenses(100, target_month, target_year)\n",
    "\n",
    "# Save to CSV\n",
    "df.to_csv('expenses_specific_month.csv', index=False)\n",
    "print(\"Sample data for the specified month generated!\")"
   ]
  },
  {
   "cell_type": "code",
   "execution_count": 17,
   "id": "dbe95082-4131-45e5-af5d-22d60c8cb952",
   "metadata": {},
   "outputs": [
    {
     "data": {
      "text/plain": [
       "100"
      ]
     },
     "execution_count": 17,
     "metadata": {},
     "output_type": "execute_result"
    }
   ],
   "source": [
    "import sqlite3\n",
    "conn = sqlite3.connect('expenses.db')\n",
    "df.to_sql('August', conn, if_exists='replace', index=False)\n"
   ]
  },
  {
   "cell_type": "code",
   "execution_count": 18,
   "id": "c1273871-f10c-4ba7-84b2-954da54f4f1d",
   "metadata": {},
   "outputs": [
    {
     "name": "stdin",
     "output_type": "stream",
     "text": [
      "Enter the target month (1-12):  9\n",
      "Enter the target year (e.g., 2024):  2025\n"
     ]
    },
    {
     "name": "stdout",
     "output_type": "stream",
     "text": [
      "Sample data for the specified month generated!\n"
     ]
    }
   ],
   "source": [
    "from faker import Faker\n",
    "import random\n",
    "import pandas as pd\n",
    "fake = Faker()\n",
    "\n",
    "def generate_expenses(num_entries, month, year):\n",
    "    categories = ['Food', 'Transportation', 'Bills', 'Groceries', 'Subscriptions', 'Entertainment', 'Miscellaneous']\n",
    "    payment_modes = ['Cash', 'UPI', 'Credit Card', 'Debit Card', 'NetBanking']\n",
    "    bills = ['electricity', 'gas', 'water', 'wifi', 'phone']\n",
    "    subscription = ['spotify', 'wynk', 'prime', 'netflix', 'youtube']\n",
    "    \n",
    "    data = []\n",
    "    for _ in range(num_entries):\n",
    "        # Generate a random date within the specified month and year\n",
    "        date = fake.date_between_dates(\n",
    "            date_start=pd.Timestamp(year, month, 1),\n",
    "            date_end=pd.Timestamp(year, month, 28)  # Assume 28 days for simplicity\n",
    "        )\n",
    "        data.append({\n",
    "            'Date': date,\n",
    "            'Category': random.choice(categories),\n",
    "            'Payment_Mode': random.choice(payment_modes),\n",
    "            'Description': fake.sentence(nb_words=5),\n",
    "            'Amount_Paid': round(random.uniform(10, 500), 2),\n",
    "            'Cashback': round(random.uniform(0, 20), 2) if random.random() > 0.5 else 0.0\n",
    "        })\n",
    "    return pd.DataFrame(data)\n",
    "\n",
    "# User input for month and year\n",
    "target_month = int(input(\"Enter the target month (1-12): \"))\n",
    "target_year = int(input(\"Enter the target year (e.g., 2024): \"))\n",
    "\n",
    "# Generate data\n",
    "df = generate_expenses(100, target_month, target_year)\n",
    "\n",
    "# Save to CSV\n",
    "df.to_csv('expenses_specific_month.csv', index=False)\n",
    "print(\"Sample data for the specified month generated!\")"
   ]
  },
  {
   "cell_type": "code",
   "execution_count": 19,
   "id": "2c2a677d-22e3-4790-acd5-71fd4f11d4dc",
   "metadata": {},
   "outputs": [
    {
     "data": {
      "text/plain": [
       "100"
      ]
     },
     "execution_count": 19,
     "metadata": {},
     "output_type": "execute_result"
    }
   ],
   "source": [
    "import sqlite3\n",
    "conn = sqlite3.connect('expenses.db')\n",
    "df.to_sql('September', conn, if_exists='replace', index=False)"
   ]
  },
  {
   "cell_type": "code",
   "execution_count": 20,
   "id": "71680097-017c-4bef-9e15-42f5f8ee3722",
   "metadata": {},
   "outputs": [
    {
     "name": "stdin",
     "output_type": "stream",
     "text": [
      "Enter the target month (1-12):  10\n",
      "Enter the target year (e.g., 2024):  2025\n"
     ]
    },
    {
     "name": "stdout",
     "output_type": "stream",
     "text": [
      "Sample data for the specified month generated!\n"
     ]
    }
   ],
   "source": [
    "from faker import Faker\n",
    "import random\n",
    "import pandas as pd\n",
    "fake = Faker()\n",
    "\n",
    "def generate_expenses(num_entries, month, year):\n",
    "    categories = ['Food', 'Transportation', 'Bills', 'Groceries', 'Subscriptions', 'Entertainment', 'Miscellaneous']\n",
    "    payment_modes = ['Cash', 'UPI', 'Credit Card', 'Debit Card', 'NetBanking']\n",
    "    bills = ['electricity', 'gas', 'water', 'wifi', 'phone']\n",
    "    subscription = ['spotify', 'wynk', 'prime', 'netflix', 'youtube']\n",
    "    \n",
    "    data = []\n",
    "    for _ in range(num_entries):\n",
    "        # Generate a random date within the specified month and year\n",
    "        date = fake.date_between_dates(\n",
    "            date_start=pd.Timestamp(year, month, 1),\n",
    "            date_end=pd.Timestamp(year, month, 28)  # Assume 28 days for simplicity\n",
    "        )\n",
    "        data.append({\n",
    "            'Date': date,\n",
    "            'Category': random.choice(categories),\n",
    "            'Payment_Mode': random.choice(payment_modes),\n",
    "            'Description': fake.sentence(nb_words=5),\n",
    "            'Amount_Paid': round(random.uniform(10, 500), 2),\n",
    "            'Cashback': round(random.uniform(0, 20), 2) if random.random() > 0.5 else 0.0\n",
    "        })\n",
    "    return pd.DataFrame(data)\n",
    "\n",
    "# User input for month and year\n",
    "target_month = int(input(\"Enter the target month (1-12): \"))\n",
    "target_year = int(input(\"Enter the target year (e.g., 2024): \"))\n",
    "\n",
    "# Generate data\n",
    "df = generate_expenses(100, target_month, target_year)\n",
    "\n",
    "# Save to CSV\n",
    "df.to_csv('expenses_specific_month.csv', index=False)\n",
    "print(\"Sample data for the specified month generated!\")"
   ]
  },
  {
   "cell_type": "code",
   "execution_count": 21,
   "id": "5aa3ae66-1a86-4e54-a0ee-d1e2ceadafdd",
   "metadata": {},
   "outputs": [
    {
     "data": {
      "text/plain": [
       "100"
      ]
     },
     "execution_count": 21,
     "metadata": {},
     "output_type": "execute_result"
    }
   ],
   "source": [
    "import sqlite3\n",
    "conn = sqlite3.connect('expenses.db')\n",
    "df.to_sql('October', conn, if_exists='replace', index=False)"
   ]
  },
  {
   "cell_type": "code",
   "execution_count": 22,
   "id": "852d1e84-a409-4371-9692-9d24fa65a5e1",
   "metadata": {},
   "outputs": [
    {
     "name": "stdin",
     "output_type": "stream",
     "text": [
      "Enter the target month (1-12):  11\n",
      "Enter the target year (e.g., 2024):  2025\n"
     ]
    },
    {
     "name": "stdout",
     "output_type": "stream",
     "text": [
      "Sample data for the specified month generated!\n"
     ]
    }
   ],
   "source": [
    "from faker import Faker\n",
    "import random\n",
    "import pandas as pd\n",
    "fake = Faker()\n",
    "\n",
    "def generate_expenses(num_entries, month, year):\n",
    "    categories = ['Food', 'Transportation', 'Bills', 'Groceries', 'Subscriptions', 'Entertainment', 'Miscellaneous']\n",
    "    payment_modes = ['Cash', 'UPI', 'Credit Card', 'Debit Card', 'NetBanking']\n",
    "    bills = ['electricity', 'gas', 'water', 'wifi', 'phone']\n",
    "    subscription = ['spotify', 'wynk', 'prime', 'netflix', 'youtube']\n",
    "    \n",
    "    data = []\n",
    "    for _ in range(num_entries):\n",
    "        # Generate a random date within the specified month and year\n",
    "        date = fake.date_between_dates(\n",
    "            date_start=pd.Timestamp(year, month, 1),\n",
    "            date_end=pd.Timestamp(year, month, 28)  # Assume 28 days for simplicity\n",
    "        )\n",
    "        data.append({\n",
    "            'Date': date,\n",
    "            'Category': random.choice(categories),\n",
    "            'Payment_Mode': random.choice(payment_modes),\n",
    "            'Description': fake.sentence(nb_words=5),\n",
    "            'Amount_Paid': round(random.uniform(10, 500), 2),\n",
    "            'Cashback': round(random.uniform(0, 20), 2) if random.random() > 0.5 else 0.0\n",
    "        })\n",
    "    return pd.DataFrame(data)\n",
    "\n",
    "# User input for month and year\n",
    "target_month = int(input(\"Enter the target month (1-12): \"))\n",
    "target_year = int(input(\"Enter the target year (e.g., 2024): \"))\n",
    "\n",
    "# Generate data\n",
    "df = generate_expenses(100, target_month, target_year)\n",
    "\n",
    "# Save to CSV\n",
    "df.to_csv('expenses_specific_month.csv', index=False)\n",
    "print(\"Sample data for the specified month generated!\")"
   ]
  },
  {
   "cell_type": "code",
   "execution_count": 23,
   "id": "ce827a76-d2a8-4460-ae12-1b3cba2d213d",
   "metadata": {},
   "outputs": [
    {
     "data": {
      "text/plain": [
       "100"
      ]
     },
     "execution_count": 23,
     "metadata": {},
     "output_type": "execute_result"
    }
   ],
   "source": [
    "import sqlite3\n",
    "conn = sqlite3.connect('expenses.db')\n",
    "df.to_sql('November', conn, if_exists='replace', index=False)"
   ]
  },
  {
   "cell_type": "code",
   "execution_count": 24,
   "id": "61817cc8-3725-4078-9e1f-336f2ceebe15",
   "metadata": {},
   "outputs": [
    {
     "name": "stdin",
     "output_type": "stream",
     "text": [
      "Enter the target month (1-12):  12\n",
      "Enter the target year (e.g., 2024):  2025\n"
     ]
    },
    {
     "name": "stdout",
     "output_type": "stream",
     "text": [
      "Sample data for the specified month generated!\n"
     ]
    }
   ],
   "source": [
    "from faker import Faker\n",
    "import random\n",
    "import pandas as pd\n",
    "fake = Faker()\n",
    "\n",
    "def generate_expenses(num_entries, month, year):\n",
    "    categories = ['Food', 'Transportation', 'Bills', 'Groceries', 'Subscriptions', 'Entertainment', 'Miscellaneous']\n",
    "    payment_modes = ['Cash', 'UPI', 'Credit Card', 'Debit Card', 'NetBanking']\n",
    "    bills = ['electricity', 'gas', 'water', 'wifi', 'phone']\n",
    "    subscription = ['spotify', 'wynk', 'prime', 'netflix', 'youtube']\n",
    "    \n",
    "    data = []\n",
    "    for _ in range(num_entries):\n",
    "        # Generate a random date within the specified month and year\n",
    "        date = fake.date_between_dates(\n",
    "            date_start=pd.Timestamp(year, month, 1),\n",
    "            date_end=pd.Timestamp(year, month, 28)  # Assume 28 days for simplicity\n",
    "        )\n",
    "        data.append({\n",
    "            'Date': date,\n",
    "            'Category': random.choice(categories),\n",
    "            'Payment_Mode': random.choice(payment_modes),\n",
    "            'Description': fake.sentence(nb_words=5),\n",
    "            'Amount_Paid': round(random.uniform(10, 500), 2),\n",
    "            'Cashback': round(random.uniform(0, 20), 2) if random.random() > 0.5 else 0.0\n",
    "        })\n",
    "    return pd.DataFrame(data)\n",
    "\n",
    "# User input for month and year\n",
    "target_month = int(input(\"Enter the target month (1-12): \"))\n",
    "target_year = int(input(\"Enter the target year (e.g., 2024): \"))\n",
    "\n",
    "# Generate data\n",
    "df = generate_expenses(100, target_month, target_year)\n",
    "\n",
    "# Save to CSV\n",
    "df.to_csv('expenses_specific_month.csv', index=False)\n",
    "print(\"Sample data for the specified month generated!\")"
   ]
  },
  {
   "cell_type": "code",
   "execution_count": 25,
   "id": "35be4b34-471d-4f89-be5d-075d5a6e2a94",
   "metadata": {},
   "outputs": [
    {
     "data": {
      "text/plain": [
       "100"
      ]
     },
     "execution_count": 25,
     "metadata": {},
     "output_type": "execute_result"
    }
   ],
   "source": [
    "import sqlite3\n",
    "conn = sqlite3.connect('expenses.db')\n",
    "df.to_sql('December', conn, if_exists='replace', index=False)"
   ]
  },
  {
   "cell_type": "code",
   "execution_count": 26,
   "id": "00779ef4-bc56-4db0-8c95-28bd60dad560",
   "metadata": {},
   "outputs": [
    {
     "name": "stdout",
     "output_type": "stream",
     "text": [
      "Data from January table has been added to AllMonths.\n",
      "Data from February table has been added to AllMonths.\n",
      "Data from March table has been added to AllMonths.\n",
      "Data from April table has been added to AllMonths.\n",
      "Data from May table has been added to AllMonths.\n",
      "Data from June table has been added to AllMonths.\n",
      "Data from July table has been added to AllMonths.\n",
      "Data from August table has been added to AllMonths.\n",
      "Data from September table has been added to AllMonths.\n",
      "Data from October table has been added to AllMonths.\n",
      "Data from November table has been added to AllMonths.\n",
      "Data from December table has been added to AllMonths.\n",
      "Total rows in AllMonths table: 3600\n"
     ]
    }
   ],
   "source": [
    "import sqlite3\n",
    "\n",
    "#Connect to the SQLite database (or create it if it doesn't exist)\n",
    "conn = sqlite3.connect('expenses.db')\n",
    "cursor = conn.cursor()\n",
    "\n",
    "#Create the consolidated table if it doesn't already exist\n",
    "cursor.execute('''\n",
    "CREATE TABLE IF NOT EXISTS AllMonths (\n",
    "    Date TEXT,\n",
    "    Category TEXT,\n",
    "    Payment_Mode TEXT,\n",
    "    Description TEXT,\n",
    "    Amount_Paid REAL,\n",
    "    Cashback REAL\n",
    ");\n",
    "''')\n",
    "conn.commit()\n",
    "\n",
    "#List of monthly table names\n",
    "months = ['January', 'February', 'March', 'April', 'May', 'June', \n",
    "          'July', 'August', 'September', 'October', 'November', 'December']\n",
    "#Loop through each month and copy data into the consolidated table\n",
    "for month in months:\n",
    "    try:\n",
    "        # Copy data from the monthly table to the consolidated table\n",
    "        cursor.execute(f'''\n",
    "        INSERT INTO AllMonths\n",
    "        SELECT * FROM {month};\n",
    "        ''')\n",
    "        print(f\"Data from {month} table has been added to AllMonths.\")\n",
    "    except sqlite3.OperationalError as e:\n",
    "        print(f\"Error with {month} table: {e}. Skipping this table.\")\n",
    "\n",
    "#Commit the changes\n",
    "conn.commit()\n",
    "\n",
    "#Verify the number of rows in the consolidated table\n",
    "cursor.execute('SELECT COUNT(*) FROM AllMonths;')\n",
    "row_count = cursor.fetchone()[0]\n",
    "print(f\"Total rows in AllMonths table: {row_count}\")\n",
    "\n",
    "#Close the connection\n",
    "conn.close()"
   ]
  },
  {
   "cell_type": "code",
   "execution_count": 28,
   "id": "9e0a3504-e82a-4afe-9c22-c699a1a259ed",
   "metadata": {},
   "outputs": [
    {
     "name": "stdout",
     "output_type": "stream",
     "text": [
      "            Date        Category Payment_Mode  \\\n",
      "0     2025-01-03           Bills         Cash   \n",
      "1     2025-01-18           Bills         Cash   \n",
      "2     2025-01-21   Entertainment          UPI   \n",
      "3     2025-01-26       Groceries   NetBanking   \n",
      "4     2025-01-20   Entertainment  Credit Card   \n",
      "...          ...             ...          ...   \n",
      "1195  2025-12-13       Groceries  Credit Card   \n",
      "1196  2025-12-05       Groceries   Debit Card   \n",
      "1197  2025-12-02       Groceries   NetBanking   \n",
      "1198  2025-12-27   Subscriptions          UPI   \n",
      "1199  2025-12-22  Transportation   Debit Card   \n",
      "\n",
      "                                            Description  Amount_Paid  Cashback  \n",
      "0                                     The positive act.       276.35      0.00  \n",
      "1                                  What produce expert.       272.53      0.00  \n",
      "2                                       Their sure gun.       397.73      0.43  \n",
      "3                           Believe total fear instead.       274.39      0.00  \n",
      "4          Body interesting picture manage itself must.       242.72      0.00  \n",
      "...                                                 ...          ...       ...  \n",
      "1195                               Same apply much let.        24.58      0.00  \n",
      "1196                     Network administration couple.       143.41      0.00  \n",
      "1197  Capital involve commercial professional necess...       191.71      0.00  \n",
      "1198                                   Shake offer man.       279.79     13.31  \n",
      "1199                               Foot social measure.        23.04     10.28  \n",
      "\n",
      "[1200 rows x 6 columns]\n"
     ]
    },
    {
     "data": {
      "text/html": [
       "<div>\n",
       "<style scoped>\n",
       "    .dataframe tbody tr th:only-of-type {\n",
       "        vertical-align: middle;\n",
       "    }\n",
       "\n",
       "    .dataframe tbody tr th {\n",
       "        vertical-align: top;\n",
       "    }\n",
       "\n",
       "    .dataframe thead th {\n",
       "        text-align: right;\n",
       "    }\n",
       "</style>\n",
       "<table border=\"1\" class=\"dataframe\">\n",
       "  <thead>\n",
       "    <tr style=\"text-align: right;\">\n",
       "      <th></th>\n",
       "      <th>Date</th>\n",
       "      <th>Category</th>\n",
       "      <th>Payment_Mode</th>\n",
       "      <th>Description</th>\n",
       "      <th>Amount_Paid</th>\n",
       "      <th>Cashback</th>\n",
       "    </tr>\n",
       "  </thead>\n",
       "  <tbody>\n",
       "    <tr>\n",
       "      <th>0</th>\n",
       "      <td>2025-01-03</td>\n",
       "      <td>Bills</td>\n",
       "      <td>Cash</td>\n",
       "      <td>The positive act.</td>\n",
       "      <td>276.35</td>\n",
       "      <td>0.00</td>\n",
       "    </tr>\n",
       "    <tr>\n",
       "      <th>1</th>\n",
       "      <td>2025-01-18</td>\n",
       "      <td>Bills</td>\n",
       "      <td>Cash</td>\n",
       "      <td>What produce expert.</td>\n",
       "      <td>272.53</td>\n",
       "      <td>0.00</td>\n",
       "    </tr>\n",
       "    <tr>\n",
       "      <th>2</th>\n",
       "      <td>2025-01-21</td>\n",
       "      <td>Entertainment</td>\n",
       "      <td>UPI</td>\n",
       "      <td>Their sure gun.</td>\n",
       "      <td>397.73</td>\n",
       "      <td>0.43</td>\n",
       "    </tr>\n",
       "    <tr>\n",
       "      <th>3</th>\n",
       "      <td>2025-01-26</td>\n",
       "      <td>Groceries</td>\n",
       "      <td>NetBanking</td>\n",
       "      <td>Believe total fear instead.</td>\n",
       "      <td>274.39</td>\n",
       "      <td>0.00</td>\n",
       "    </tr>\n",
       "    <tr>\n",
       "      <th>4</th>\n",
       "      <td>2025-01-20</td>\n",
       "      <td>Entertainment</td>\n",
       "      <td>Credit Card</td>\n",
       "      <td>Body interesting picture manage itself must.</td>\n",
       "      <td>242.72</td>\n",
       "      <td>0.00</td>\n",
       "    </tr>\n",
       "    <tr>\n",
       "      <th>...</th>\n",
       "      <td>...</td>\n",
       "      <td>...</td>\n",
       "      <td>...</td>\n",
       "      <td>...</td>\n",
       "      <td>...</td>\n",
       "      <td>...</td>\n",
       "    </tr>\n",
       "    <tr>\n",
       "      <th>1195</th>\n",
       "      <td>2025-12-13</td>\n",
       "      <td>Groceries</td>\n",
       "      <td>Credit Card</td>\n",
       "      <td>Same apply much let.</td>\n",
       "      <td>24.58</td>\n",
       "      <td>0.00</td>\n",
       "    </tr>\n",
       "    <tr>\n",
       "      <th>1196</th>\n",
       "      <td>2025-12-05</td>\n",
       "      <td>Groceries</td>\n",
       "      <td>Debit Card</td>\n",
       "      <td>Network administration couple.</td>\n",
       "      <td>143.41</td>\n",
       "      <td>0.00</td>\n",
       "    </tr>\n",
       "    <tr>\n",
       "      <th>1197</th>\n",
       "      <td>2025-12-02</td>\n",
       "      <td>Groceries</td>\n",
       "      <td>NetBanking</td>\n",
       "      <td>Capital involve commercial professional necess...</td>\n",
       "      <td>191.71</td>\n",
       "      <td>0.00</td>\n",
       "    </tr>\n",
       "    <tr>\n",
       "      <th>1198</th>\n",
       "      <td>2025-12-27</td>\n",
       "      <td>Subscriptions</td>\n",
       "      <td>UPI</td>\n",
       "      <td>Shake offer man.</td>\n",
       "      <td>279.79</td>\n",
       "      <td>13.31</td>\n",
       "    </tr>\n",
       "    <tr>\n",
       "      <th>1199</th>\n",
       "      <td>2025-12-22</td>\n",
       "      <td>Transportation</td>\n",
       "      <td>Debit Card</td>\n",
       "      <td>Foot social measure.</td>\n",
       "      <td>23.04</td>\n",
       "      <td>10.28</td>\n",
       "    </tr>\n",
       "  </tbody>\n",
       "</table>\n",
       "<p>1200 rows × 6 columns</p>\n",
       "</div>"
      ],
      "text/plain": [
       "            Date        Category Payment_Mode  \\\n",
       "0     2025-01-03           Bills         Cash   \n",
       "1     2025-01-18           Bills         Cash   \n",
       "2     2025-01-21   Entertainment          UPI   \n",
       "3     2025-01-26       Groceries   NetBanking   \n",
       "4     2025-01-20   Entertainment  Credit Card   \n",
       "...          ...             ...          ...   \n",
       "1195  2025-12-13       Groceries  Credit Card   \n",
       "1196  2025-12-05       Groceries   Debit Card   \n",
       "1197  2025-12-02       Groceries   NetBanking   \n",
       "1198  2025-12-27   Subscriptions          UPI   \n",
       "1199  2025-12-22  Transportation   Debit Card   \n",
       "\n",
       "                                            Description  Amount_Paid  Cashback  \n",
       "0                                     The positive act.       276.35      0.00  \n",
       "1                                  What produce expert.       272.53      0.00  \n",
       "2                                       Their sure gun.       397.73      0.43  \n",
       "3                           Believe total fear instead.       274.39      0.00  \n",
       "4          Body interesting picture manage itself must.       242.72      0.00  \n",
       "...                                                 ...          ...       ...  \n",
       "1195                               Same apply much let.        24.58      0.00  \n",
       "1196                     Network administration couple.       143.41      0.00  \n",
       "1197  Capital involve commercial professional necess...       191.71      0.00  \n",
       "1198                                   Shake offer man.       279.79     13.31  \n",
       "1199                               Foot social measure.        23.04     10.28  \n",
       "\n",
       "[1200 rows x 6 columns]"
      ]
     },
     "metadata": {},
     "output_type": "display_data"
    }
   ],
   "source": [
    "import sqlite3\n",
    "import pandas as pd\n",
    "\n",
    "# Connect to the database\n",
    "conn = sqlite3.connect('expenses.db')\n",
    "\n",
    "# Load the table into a Pandas DataFrame\n",
    "df = pd.read_sql_query(\"SELECT * FROM AllMonths;\", conn)\n",
    "\n",
    "# Display the DataFrame\n",
    "print(df)\n",
    "\n",
    "# show as a table in Jupyter Notebook\n",
    "from IPython.display import display\n",
    "display(df)\n",
    "\n",
    "# Close the connection\n",
    "conn.close()"
   ]
  },
  {
   "cell_type": "code",
   "execution_count": 28,
   "id": "3f73034d-0761-4091-9371-fbb7e34f2870",
   "metadata": {},
   "outputs": [
    {
     "name": "stdout",
     "output_type": "stream",
     "text": [
      "Data exported successfully to all_months_expenses.csv\n"
     ]
    }
   ],
   "source": [
    "import sqlite3\n",
    "import pandas as pd\n",
    "\n",
    "# Connect to the SQLite database\n",
    "conn = sqlite3.connect('expenses.db')\n",
    "\n",
    "# Load the data from the AllMonths table into a Pandas DataFrame\n",
    "df = pd.read_sql_query(\"SELECT * FROM AllMonths;\", conn)\n",
    "\n",
    "# Save the DataFrame as a CSV file\n",
    "csv_file_path = \"all_months_expenses.csv\"\n",
    "df.to_csv(csv_file_path, index=False)\n",
    "\n",
    "# Close the database connection\n",
    "conn.close()\n",
    "\n",
    "print(f\"Data exported successfully to {csv_file_path}\")"
   ]
  },
  {
   "cell_type": "code",
   "execution_count": 29,
   "id": "1945e441-321a-43aa-ad09-1ddb6832b3ab",
   "metadata": {},
   "outputs": [],
   "source": [
    "import mysql.connector"
   ]
  },
  {
   "cell_type": "code",
   "execution_count": 30,
   "id": "9bced0cc-eb69-4c2c-b65d-9b65cb693a88",
   "metadata": {},
   "outputs": [],
   "source": [
    "from getpass import getpass\n",
    "from mysql.connector import connect, Error"
   ]
  },
  {
   "cell_type": "code",
   "execution_count": 55,
   "id": "92102db3-cb3c-4e22-9bda-32d40ea936a8",
   "metadata": {},
   "outputs": [
    {
     "name": "stdin",
     "output_type": "stream",
     "text": [
      "Enter username root\n",
      "Enter password:  ········\n"
     ]
    },
    {
     "name": "stdout",
     "output_type": "stream",
     "text": [
      "<mysql.connector.connection_cext.CMySQLConnection object at 0x0000022EFBB1CC90>\n"
     ]
    }
   ],
   "source": [
    "try:\n",
    "    with connect(\n",
    "        host = \"localhost\",\n",
    "        user = input(\"Enter username\"),\n",
    "        password = getpass(\"Enter password: \"),\n",
    "    ) as connection:\n",
    "        print(connection)\n",
    "except Error as e:\n",
    "    print(e)"
   ]
  },
  {
   "cell_type": "code",
   "execution_count": 40,
   "id": "4043cc65-2310-492b-b1ca-1fa08aee6f47",
   "metadata": {},
   "outputs": [],
   "source": [
    "mydb=mysql.connector.connect(host='localhost',user='root',password='12345678',database='expense',use_pure=True)"
   ]
  },
  {
   "cell_type": "code",
   "execution_count": 41,
   "id": "109cd4f4-ab4d-49d4-960b-756081962fc0",
   "metadata": {},
   "outputs": [],
   "source": [
    "mycursor=mydb.cursor()"
   ]
  },
  {
   "cell_type": "code",
   "execution_count": 42,
   "id": "e0fa1711-a14a-4e95-a80d-778e2a7b005a",
   "metadata": {},
   "outputs": [
    {
     "name": "stdout",
     "output_type": "stream",
     "text": [
      "         Date       Category Payment_Mode  \\\n",
      "0  2025-01-03          Bills         Cash   \n",
      "1  2025-01-18          Bills         Cash   \n",
      "2  2025-01-21  Entertainment          UPI   \n",
      "3  2025-01-26      Groceries   NetBanking   \n",
      "4  2025-01-20  Entertainment  Credit Card   \n",
      "\n",
      "                                    Description  Amount_Paid  Cashback  \n",
      "0                             The positive act.       276.35      0.00  \n",
      "1                          What produce expert.       272.53      0.00  \n",
      "2                               Their sure gun.       397.73      0.43  \n",
      "3                   Believe total fear instead.       274.39      0.00  \n",
      "4  Body interesting picture manage itself must.       242.72      0.00  \n",
      "Total rows in CSV: 3600\n"
     ]
    }
   ],
   "source": [
    "df = pd.read_csv (\"all_months_expenses.csv\")\n",
    "print(df.head())\n",
    "print(f\"Total rows in CSV: {len(df)}\")"
   ]
  },
  {
   "cell_type": "code",
   "execution_count": null,
   "id": "5e3c11bd-7946-498d-8863-28373e80b3c0",
   "metadata": {},
   "outputs": [],
   "source": []
  }
 ],
 "metadata": {
  "kernelspec": {
   "display_name": "Python 3 (ipykernel)",
   "language": "python",
   "name": "python3"
  },
  "language_info": {
   "codemirror_mode": {
    "name": "ipython",
    "version": 3
   },
   "file_extension": ".py",
   "mimetype": "text/x-python",
   "name": "python",
   "nbconvert_exporter": "python",
   "pygments_lexer": "ipython3",
   "version": "3.11.7"
  }
 },
 "nbformat": 4,
 "nbformat_minor": 5
}
